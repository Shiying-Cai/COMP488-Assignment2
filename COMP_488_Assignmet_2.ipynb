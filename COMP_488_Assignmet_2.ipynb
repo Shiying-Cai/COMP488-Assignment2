{
  "nbformat": 4,
  "nbformat_minor": 0,
  "metadata": {
    "colab": {
      "provenance": [],
      "authorship_tag": "ABX9TyPi/KJKz8xeIqNGX3bOdaeb",
      "include_colab_link": true
    },
    "kernelspec": {
      "name": "python3",
      "display_name": "Python 3"
    },
    "language_info": {
      "name": "python"
    }
  },
  "cells": [
    {
      "cell_type": "markdown",
      "metadata": {
        "id": "view-in-github",
        "colab_type": "text"
      },
      "source": [
        "<a href=\"https://colab.research.google.com/github/Shiying-Cai/COMP488-Assignment2/blob/main/COMP_488_Assignmet_2.ipynb\" target=\"_parent\"><img src=\"https://colab.research.google.com/assets/colab-badge.svg\" alt=\"Open In Colab\"/></a>"
      ]
    },
    {
      "cell_type": "code",
      "execution_count": null,
      "metadata": {
        "id": "ZHjKDgxixmzj"
      },
      "outputs": [],
      "source": []
    },
    {
      "cell_type": "markdown",
      "source": [
        "# **BUSI 488 / COMP 488 Assignmet 2**\n",
        "## *Group 7*  \n",
        "Maya Agnihotri, Yulim Kim, Shiying Cai, Ankit Karki, David Nassif"
      ],
      "metadata": {
        "id": "1yUMVq17x5AB"
      }
    },
    {
      "cell_type": "markdown",
      "source": [
        "# Initialization \n"
      ],
      "metadata": {
        "id": "XFm-zbHLyMJl"
      }
    },
    {
      "cell_type": "markdown",
      "source": [
        "## Python library installs and imports"
      ],
      "metadata": {
        "id": "mDUIEA_qyvbY"
      }
    },
    {
      "cell_type": "code",
      "source": [
        "import pandas as pd\n",
        "import numpy as np\n",
        "from tabulate import tabulate \n",
        "\n",
        "# !pip install pickle5\n",
        "import pickle5 as pickle\n",
        "\n",
        "from google.colab import drive\n",
        "import os"
      ],
      "metadata": {
        "id": "ROGN6OwGycZH",
        "colab": {
          "base_uri": "https://localhost:8080/"
        },
        "outputId": "0a3f2f4f-e0e7-4860-a13e-9ee1a2e91108"
      },
      "execution_count": 6,
      "outputs": [
        {
          "output_type": "stream",
          "name": "stdout",
          "text": [
            "Looking in indexes: https://pypi.org/simple, https://us-python.pkg.dev/colab-wheels/public/simple/\n",
            "Collecting pickle5\n",
            "  Downloading pickle5-0.0.11.tar.gz (132 kB)\n",
            "\u001b[2K     \u001b[90m━━━━━━━━━━━━━━━━━━━━━━━━━━━━━━━━━━━━━━━\u001b[0m \u001b[32m132.1/132.1 KB\u001b[0m \u001b[31m5.7 MB/s\u001b[0m eta \u001b[36m0:00:00\u001b[0m\n",
            "\u001b[?25h  Preparing metadata (setup.py) ... \u001b[?25l\u001b[?25hdone\n",
            "Building wheels for collected packages: pickle5\n",
            "  Building wheel for pickle5 (setup.py) ... \u001b[?25l\u001b[?25hdone\n",
            "  Created wheel for pickle5: filename=pickle5-0.0.11-cp38-cp38-linux_x86_64.whl size=262094 sha256=74b5340649f08f8e45c6688f3313ff3f515b57097c45ad8456fbe895b0dfda8b\n",
            "  Stored in directory: /root/.cache/pip/wheels/25/d4/61/dbd8edd1a0d656be7b4267c85db3b61951eb60016a0154a122\n",
            "Successfully built pickle5\n",
            "Installing collected packages: pickle5\n",
            "Successfully installed pickle5-0.0.11\n"
          ]
        }
      ]
    },
    {
      "cell_type": "markdown",
      "source": [
        "## Mounting drives and importing data\n",
        "Reads the data frame df from the pickled CoffeeShop data file"
      ],
      "metadata": {
        "id": "aZvnPFi9y4ZD"
      }
    },
    {
      "cell_type": "code",
      "source": [
        "#mount google drive utility\n",
        "drive.mount(\"/content/drive\")"
      ],
      "metadata": {
        "colab": {
          "base_uri": "https://localhost:8080/"
        },
        "id": "xBkkwDFay-Tr",
        "outputId": "317a2f38-9c25-4e09-e91f-a1922afd1515"
      },
      "execution_count": 3,
      "outputs": [
        {
          "output_type": "stream",
          "name": "stdout",
          "text": [
            "Mounted at /content/drive\n"
          ]
        }
      ]
    },
    {
      "cell_type": "code",
      "source": [
        "# path to data file\n",
        "path = \"/content/drive/MyDrive/COMP_488/Assignment2\"\n",
        "os.chdir(path)\n",
        "!ls"
      ],
      "metadata": {
        "colab": {
          "base_uri": "https://localhost:8080/"
        },
        "id": "N-ZDbrBwYYsO",
        "outputId": "f6d993cf-555f-4135-fbaa-07edb27ac07f"
      },
      "execution_count": 4,
      "outputs": [
        {
          "output_type": "stream",
          "name": "stdout",
          "text": [
            "488-2023-Assignment2-Coffee_CashierLog-2018-2020.pkl\n",
            "488-2023-Assignment_2-CoffeShop-Cost-Structure-20221219.pdf\n",
            "Coffee_CashierLog-2018-2020_cleaned.pkl\n",
            "CoffeeShopWrangling_1_Fix_Types+Strings.ipynb\n"
          ]
        }
      ]
    },
    {
      "cell_type": "code",
      "source": [
        "df = pd.read_pickle(\"488-2023-Assignment2-Coffee_CashierLog-2018-2020.pkl\")\n",
        "df.head()"
      ],
      "metadata": {
        "colab": {
          "base_uri": "https://localhost:8080/",
          "height": 350
        },
        "id": "RMH2X1-NYldK",
        "outputId": "11a4d7ba-8a4c-47d5-e098-1bec4d97352c"
      },
      "execution_count": 5,
      "outputs": [
        {
          "output_type": "execute_result",
          "data": {
            "text/plain": [
              "          TimeStamp  BasketID          Category                Item  Qty  \\\n",
              "0  10/5/18 13:09:39     57034  From the Barista  Vanilla Chai Latte    1   \n",
              "1  10/5/18 13:09:39     57034  From the Barista      Flavored Latte    1   \n",
              "2  10/5/18 13:15:00     52838    What's Brewing   Coffee of the Day    1   \n",
              "3  10/5/18 13:20:11     17649  From the Barista               Latte    1   \n",
              "4  10/5/18 13:41:41      2511              None       Custom Amount    1   \n",
              "\n",
              "  Price Point Name  SKU Modifiers Applied Gross Sales Discounts Notes Unit  \\\n",
              "0             12oz  NaN               NaN      $3.50     $0.00    NaN   ea   \n",
              "1             20oz  NaN               NaN      $4.45    ($0.44)   NaN   ea   \n",
              "2             16oz  NaN               NaN      $2.25     $0.00    NaN   ea   \n",
              "3             20oz  NaN               NaN      $3.95     $0.00    NaN   ea   \n",
              "4              NaN  NaN               NaN      $0.47     $0.00    NaN   ea   \n",
              "\n",
              "   Count Event Type  PaymentID  CustomerID  \n",
              "0      1    Payment      42740        5477  \n",
              "1      1    Payment      42740        5477  \n",
              "2      1    Payment      50902          -1  \n",
              "3      1    Payment      45994          -1  \n",
              "4      1    Payment       9852          -1  "
            ],
            "text/html": [
              "\n",
              "  <div id=\"df-227914d0-f49a-4e51-a186-1a80897a2314\">\n",
              "    <div class=\"colab-df-container\">\n",
              "      <div>\n",
              "<style scoped>\n",
              "    .dataframe tbody tr th:only-of-type {\n",
              "        vertical-align: middle;\n",
              "    }\n",
              "\n",
              "    .dataframe tbody tr th {\n",
              "        vertical-align: top;\n",
              "    }\n",
              "\n",
              "    .dataframe thead th {\n",
              "        text-align: right;\n",
              "    }\n",
              "</style>\n",
              "<table border=\"1\" class=\"dataframe\">\n",
              "  <thead>\n",
              "    <tr style=\"text-align: right;\">\n",
              "      <th></th>\n",
              "      <th>TimeStamp</th>\n",
              "      <th>BasketID</th>\n",
              "      <th>Category</th>\n",
              "      <th>Item</th>\n",
              "      <th>Qty</th>\n",
              "      <th>Price Point Name</th>\n",
              "      <th>SKU</th>\n",
              "      <th>Modifiers Applied</th>\n",
              "      <th>Gross Sales</th>\n",
              "      <th>Discounts</th>\n",
              "      <th>Notes</th>\n",
              "      <th>Unit</th>\n",
              "      <th>Count</th>\n",
              "      <th>Event Type</th>\n",
              "      <th>PaymentID</th>\n",
              "      <th>CustomerID</th>\n",
              "    </tr>\n",
              "  </thead>\n",
              "  <tbody>\n",
              "    <tr>\n",
              "      <th>0</th>\n",
              "      <td>10/5/18 13:09:39</td>\n",
              "      <td>57034</td>\n",
              "      <td>From the Barista</td>\n",
              "      <td>Vanilla Chai Latte</td>\n",
              "      <td>1</td>\n",
              "      <td>12oz</td>\n",
              "      <td>NaN</td>\n",
              "      <td>NaN</td>\n",
              "      <td>$3.50</td>\n",
              "      <td>$0.00</td>\n",
              "      <td>NaN</td>\n",
              "      <td>ea</td>\n",
              "      <td>1</td>\n",
              "      <td>Payment</td>\n",
              "      <td>42740</td>\n",
              "      <td>5477</td>\n",
              "    </tr>\n",
              "    <tr>\n",
              "      <th>1</th>\n",
              "      <td>10/5/18 13:09:39</td>\n",
              "      <td>57034</td>\n",
              "      <td>From the Barista</td>\n",
              "      <td>Flavored Latte</td>\n",
              "      <td>1</td>\n",
              "      <td>20oz</td>\n",
              "      <td>NaN</td>\n",
              "      <td>NaN</td>\n",
              "      <td>$4.45</td>\n",
              "      <td>($0.44)</td>\n",
              "      <td>NaN</td>\n",
              "      <td>ea</td>\n",
              "      <td>1</td>\n",
              "      <td>Payment</td>\n",
              "      <td>42740</td>\n",
              "      <td>5477</td>\n",
              "    </tr>\n",
              "    <tr>\n",
              "      <th>2</th>\n",
              "      <td>10/5/18 13:15:00</td>\n",
              "      <td>52838</td>\n",
              "      <td>What's Brewing</td>\n",
              "      <td>Coffee of the Day</td>\n",
              "      <td>1</td>\n",
              "      <td>16oz</td>\n",
              "      <td>NaN</td>\n",
              "      <td>NaN</td>\n",
              "      <td>$2.25</td>\n",
              "      <td>$0.00</td>\n",
              "      <td>NaN</td>\n",
              "      <td>ea</td>\n",
              "      <td>1</td>\n",
              "      <td>Payment</td>\n",
              "      <td>50902</td>\n",
              "      <td>-1</td>\n",
              "    </tr>\n",
              "    <tr>\n",
              "      <th>3</th>\n",
              "      <td>10/5/18 13:20:11</td>\n",
              "      <td>17649</td>\n",
              "      <td>From the Barista</td>\n",
              "      <td>Latte</td>\n",
              "      <td>1</td>\n",
              "      <td>20oz</td>\n",
              "      <td>NaN</td>\n",
              "      <td>NaN</td>\n",
              "      <td>$3.95</td>\n",
              "      <td>$0.00</td>\n",
              "      <td>NaN</td>\n",
              "      <td>ea</td>\n",
              "      <td>1</td>\n",
              "      <td>Payment</td>\n",
              "      <td>45994</td>\n",
              "      <td>-1</td>\n",
              "    </tr>\n",
              "    <tr>\n",
              "      <th>4</th>\n",
              "      <td>10/5/18 13:41:41</td>\n",
              "      <td>2511</td>\n",
              "      <td>None</td>\n",
              "      <td>Custom Amount</td>\n",
              "      <td>1</td>\n",
              "      <td>NaN</td>\n",
              "      <td>NaN</td>\n",
              "      <td>NaN</td>\n",
              "      <td>$0.47</td>\n",
              "      <td>$0.00</td>\n",
              "      <td>NaN</td>\n",
              "      <td>ea</td>\n",
              "      <td>1</td>\n",
              "      <td>Payment</td>\n",
              "      <td>9852</td>\n",
              "      <td>-1</td>\n",
              "    </tr>\n",
              "  </tbody>\n",
              "</table>\n",
              "</div>\n",
              "      <button class=\"colab-df-convert\" onclick=\"convertToInteractive('df-227914d0-f49a-4e51-a186-1a80897a2314')\"\n",
              "              title=\"Convert this dataframe to an interactive table.\"\n",
              "              style=\"display:none;\">\n",
              "        \n",
              "  <svg xmlns=\"http://www.w3.org/2000/svg\" height=\"24px\"viewBox=\"0 0 24 24\"\n",
              "       width=\"24px\">\n",
              "    <path d=\"M0 0h24v24H0V0z\" fill=\"none\"/>\n",
              "    <path d=\"M18.56 5.44l.94 2.06.94-2.06 2.06-.94-2.06-.94-.94-2.06-.94 2.06-2.06.94zm-11 1L8.5 8.5l.94-2.06 2.06-.94-2.06-.94L8.5 2.5l-.94 2.06-2.06.94zm10 10l.94 2.06.94-2.06 2.06-.94-2.06-.94-.94-2.06-.94 2.06-2.06.94z\"/><path d=\"M17.41 7.96l-1.37-1.37c-.4-.4-.92-.59-1.43-.59-.52 0-1.04.2-1.43.59L10.3 9.45l-7.72 7.72c-.78.78-.78 2.05 0 2.83L4 21.41c.39.39.9.59 1.41.59.51 0 1.02-.2 1.41-.59l7.78-7.78 2.81-2.81c.8-.78.8-2.07 0-2.86zM5.41 20L4 18.59l7.72-7.72 1.47 1.35L5.41 20z\"/>\n",
              "  </svg>\n",
              "      </button>\n",
              "      \n",
              "  <style>\n",
              "    .colab-df-container {\n",
              "      display:flex;\n",
              "      flex-wrap:wrap;\n",
              "      gap: 12px;\n",
              "    }\n",
              "\n",
              "    .colab-df-convert {\n",
              "      background-color: #E8F0FE;\n",
              "      border: none;\n",
              "      border-radius: 50%;\n",
              "      cursor: pointer;\n",
              "      display: none;\n",
              "      fill: #1967D2;\n",
              "      height: 32px;\n",
              "      padding: 0 0 0 0;\n",
              "      width: 32px;\n",
              "    }\n",
              "\n",
              "    .colab-df-convert:hover {\n",
              "      background-color: #E2EBFA;\n",
              "      box-shadow: 0px 1px 2px rgba(60, 64, 67, 0.3), 0px 1px 3px 1px rgba(60, 64, 67, 0.15);\n",
              "      fill: #174EA6;\n",
              "    }\n",
              "\n",
              "    [theme=dark] .colab-df-convert {\n",
              "      background-color: #3B4455;\n",
              "      fill: #D2E3FC;\n",
              "    }\n",
              "\n",
              "    [theme=dark] .colab-df-convert:hover {\n",
              "      background-color: #434B5C;\n",
              "      box-shadow: 0px 1px 3px 1px rgba(0, 0, 0, 0.15);\n",
              "      filter: drop-shadow(0px 1px 2px rgba(0, 0, 0, 0.3));\n",
              "      fill: #FFFFFF;\n",
              "    }\n",
              "  </style>\n",
              "\n",
              "      <script>\n",
              "        const buttonEl =\n",
              "          document.querySelector('#df-227914d0-f49a-4e51-a186-1a80897a2314 button.colab-df-convert');\n",
              "        buttonEl.style.display =\n",
              "          google.colab.kernel.accessAllowed ? 'block' : 'none';\n",
              "\n",
              "        async function convertToInteractive(key) {\n",
              "          const element = document.querySelector('#df-227914d0-f49a-4e51-a186-1a80897a2314');\n",
              "          const dataTable =\n",
              "            await google.colab.kernel.invokeFunction('convertToInteractive',\n",
              "                                                     [key], {});\n",
              "          if (!dataTable) return;\n",
              "\n",
              "          const docLinkHtml = 'Like what you see? Visit the ' +\n",
              "            '<a target=\"_blank\" href=https://colab.research.google.com/notebooks/data_table.ipynb>data table notebook</a>'\n",
              "            + ' to learn more about interactive tables.';\n",
              "          element.innerHTML = '';\n",
              "          dataTable['output_type'] = 'display_data';\n",
              "          await google.colab.output.renderOutput(dataTable, element);\n",
              "          const docLink = document.createElement('div');\n",
              "          docLink.innerHTML = docLinkHtml;\n",
              "          element.appendChild(docLink);\n",
              "        }\n",
              "      </script>\n",
              "    </div>\n",
              "  </div>\n",
              "  "
            ]
          },
          "metadata": {},
          "execution_count": 5
        }
      ]
    }
  ]
}