{
  "nbformat": 4,
  "nbformat_minor": 0,
  "metadata": {
    "colab": {
      "provenance": [],
      "authorship_tag": "ABX9TyOa+8IHe/gHGB6PvOU+eiNm",
      "include_colab_link": true
    },
    "kernelspec": {
      "name": "python3",
      "display_name": "Python 3"
    },
    "language_info": {
      "name": "python"
    }
  },
  "cells": [
    {
      "cell_type": "markdown",
      "metadata": {
        "id": "view-in-github",
        "colab_type": "text"
      },
      "source": [
        "<a href=\"https://colab.research.google.com/github/Shiying-Cai/COMP488-Assignment2/blob/main/COMP_488_Assignmet_2.ipynb\" target=\"_parent\"><img src=\"https://colab.research.google.com/assets/colab-badge.svg\" alt=\"Open In Colab\"/></a>"
      ]
    },
    {
      "cell_type": "code",
      "execution_count": null,
      "metadata": {
        "id": "ZHjKDgxixmzj"
      },
      "outputs": [],
      "source": []
    },
    {
      "cell_type": "markdown",
      "source": [
        "# **BUSI 488 / COMP 488 Assignmet 2**\n",
        "## *Group 7*  \n",
        "Maya Agnihotri, Yulim Kim, Shiying Cai, Ankit Karki, David Nassif"
      ],
      "metadata": {
        "id": "1yUMVq17x5AB"
      }
    },
    {
      "cell_type": "markdown",
      "source": [
        "# Initialization \n"
      ],
      "metadata": {
        "id": "XFm-zbHLyMJl"
      }
    },
    {
      "cell_type": "markdown",
      "source": [
        "## Python library installs and imports"
      ],
      "metadata": {
        "id": "mDUIEA_qyvbY"
      }
    },
    {
      "cell_type": "code",
      "source": [
        "import pandas as pd\n",
        "import numpy as np\n",
        "from tabulate import tabulate \n",
        "\n",
        "from google.colab import drive\n",
        "import os"
      ],
      "metadata": {
        "id": "ROGN6OwGycZH"
      },
      "execution_count": null,
      "outputs": []
    },
    {
      "cell_type": "markdown",
      "source": [
        "## Mounting drives and importing data\n",
        "Reads the data frame df from the pickled CoffeeShop data file"
      ],
      "metadata": {
        "id": "aZvnPFi9y4ZD"
      }
    },
    {
      "cell_type": "code",
      "source": [
        "#mount google drive utility\n",
        "drive.mount(\"/content/drive\")"
      ],
      "metadata": {
        "colab": {
          "base_uri": "https://localhost:8080/"
        },
        "id": "xBkkwDFay-Tr",
        "outputId": "5f89534f-7141-4c0c-8b26-8a0b04b25cb5"
      },
      "execution_count": null,
      "outputs": [
        {
          "output_type": "stream",
          "name": "stdout",
          "text": [
            "Mounted at /content/drive\n"
          ]
        }
      ]
    }
  ]
}